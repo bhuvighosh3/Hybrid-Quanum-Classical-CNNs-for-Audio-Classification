{
 "cells": [
  {
   "cell_type": "code",
   "execution_count": 6,
   "id": "02ed0cca",
   "metadata": {},
   "outputs": [
    {
     "name": "stdout",
     "output_type": "stream",
     "text": [
      "Collecting qiskit-machine-learning\n",
      "  Downloading qiskit_machine_learning-0.7.1-py3-none-any.whl.metadata (12 kB)\n",
      "Requirement already satisfied: qiskit>=0.44 in c:\\users\\yash thakar\\appdata\\local\\programs\\python\\python311\\lib\\site-packages (from qiskit-machine-learning) (0.44.1)\n",
      "Collecting qiskit-algorithms>=0.2.0 (from qiskit-machine-learning)\n",
      "  Downloading qiskit_algorithms-0.3.0-py3-none-any.whl.metadata (4.2 kB)\n",
      "Requirement already satisfied: scipy>=1.4 in c:\\users\\yash thakar\\appdata\\local\\programs\\python\\python311\\lib\\site-packages (from qiskit-machine-learning) (1.11.1)\n",
      "Requirement already satisfied: numpy>=1.17 in c:\\users\\yash thakar\\appdata\\local\\programs\\python\\python311\\lib\\site-packages (from qiskit-machine-learning) (1.25.2)\n",
      "Requirement already satisfied: psutil>=5 in c:\\users\\yash thakar\\appdata\\local\\programs\\python\\python311\\lib\\site-packages (from qiskit-machine-learning) (5.9.5)\n",
      "Requirement already satisfied: scikit-learn>=1.2.0 in c:\\users\\yash thakar\\appdata\\local\\programs\\python\\python311\\lib\\site-packages (from qiskit-machine-learning) (1.3.0)\n",
      "Collecting fastdtw (from qiskit-machine-learning)\n",
      "  Using cached fastdtw-0.3.4-py3-none-any.whl\n",
      "Requirement already satisfied: setuptools>=40.1.0 in c:\\users\\yash thakar\\appdata\\local\\programs\\python\\python311\\lib\\site-packages (from qiskit-machine-learning) (65.5.0)\n",
      "Requirement already satisfied: dill>=0.3.4 in c:\\users\\yash thakar\\appdata\\local\\programs\\python\\python311\\lib\\site-packages (from qiskit-machine-learning) (0.3.7)\n",
      "Requirement already satisfied: qiskit-terra==0.25.1 in c:\\users\\yash thakar\\appdata\\local\\programs\\python\\python311\\lib\\site-packages (from qiskit>=0.44->qiskit-machine-learning) (0.25.1)\n",
      "Requirement already satisfied: rustworkx>=0.13.0 in c:\\users\\yash thakar\\appdata\\local\\programs\\python\\python311\\lib\\site-packages (from qiskit-terra==0.25.1->qiskit>=0.44->qiskit-machine-learning) (0.13.1)\n",
      "Requirement already satisfied: ply>=3.10 in c:\\users\\yash thakar\\appdata\\local\\programs\\python\\python311\\lib\\site-packages (from qiskit-terra==0.25.1->qiskit>=0.44->qiskit-machine-learning) (3.11)\n",
      "Requirement already satisfied: sympy>=1.3 in c:\\users\\yash thakar\\appdata\\local\\programs\\python\\python311\\lib\\site-packages (from qiskit-terra==0.25.1->qiskit>=0.44->qiskit-machine-learning) (1.12)\n",
      "Requirement already satisfied: python-dateutil>=2.8.0 in c:\\users\\yash thakar\\appdata\\local\\programs\\python\\python311\\lib\\site-packages (from qiskit-terra==0.25.1->qiskit>=0.44->qiskit-machine-learning) (2.8.2)\n",
      "Requirement already satisfied: stevedore>=3.0.0 in c:\\users\\yash thakar\\appdata\\local\\programs\\python\\python311\\lib\\site-packages (from qiskit-terra==0.25.1->qiskit>=0.44->qiskit-machine-learning) (5.1.0)\n",
      "Requirement already satisfied: joblib>=1.1.1 in c:\\users\\yash thakar\\appdata\\local\\programs\\python\\python311\\lib\\site-packages (from scikit-learn>=1.2.0->qiskit-machine-learning) (1.3.1)\n",
      "Requirement already satisfied: threadpoolctl>=2.0.0 in c:\\users\\yash thakar\\appdata\\local\\programs\\python\\python311\\lib\\site-packages (from scikit-learn>=1.2.0->qiskit-machine-learning) (3.1.0)\n",
      "Requirement already satisfied: six>=1.5 in c:\\users\\yash thakar\\appdata\\local\\programs\\python\\python311\\lib\\site-packages (from python-dateutil>=2.8.0->qiskit-terra==0.25.1->qiskit>=0.44->qiskit-machine-learning) (1.16.0)\n",
      "Requirement already satisfied: pbr!=2.1.0,>=2.0.0 in c:\\users\\yash thakar\\appdata\\local\\programs\\python\\python311\\lib\\site-packages (from stevedore>=3.0.0->qiskit-terra==0.25.1->qiskit>=0.44->qiskit-machine-learning) (5.11.1)\n",
      "Requirement already satisfied: mpmath>=0.19 in c:\\users\\yash thakar\\appdata\\local\\programs\\python\\python311\\lib\\site-packages (from sympy>=1.3->qiskit-terra==0.25.1->qiskit>=0.44->qiskit-machine-learning) (1.3.0)\n",
      "Downloading qiskit_machine_learning-0.7.1-py3-none-any.whl (96 kB)\n",
      "   ---------------------------------------- 0.0/96.8 kB ? eta -:--:--\n",
      "   ---- ----------------------------------- 10.2/96.8 kB ? eta -:--:--\n",
      "   --------------------------------- ------ 81.9/96.8 kB 1.5 MB/s eta 0:00:01\n",
      "   ---------------------------------------- 96.8/96.8 kB 1.1 MB/s eta 0:00:00\n",
      "Downloading qiskit_algorithms-0.3.0-py3-none-any.whl (308 kB)\n",
      "   ---------------------------------------- 0.0/308.6 kB ? eta -:--:--\n",
      "   ------------------- -------------------- 153.6/308.6 kB 3.1 MB/s eta 0:00:01\n",
      "   ---------------------------------------  307.2/308.6 kB 3.2 MB/s eta 0:00:01\n",
      "   ---------------------------------------- 308.6/308.6 kB 2.7 MB/s eta 0:00:00\n",
      "Installing collected packages: fastdtw, qiskit-algorithms, qiskit-machine-learning\n",
      "Successfully installed fastdtw-0.3.4 qiskit-algorithms-0.3.0 qiskit-machine-learning-0.7.1\n"
     ]
    },
    {
     "name": "stderr",
     "output_type": "stream",
     "text": [
      "\n",
      "[notice] A new release of pip is available: 23.3.1 -> 24.0\n",
      "[notice] To update, run: python.exe -m pip install --upgrade pip\n"
     ]
    },
    {
     "name": "stdout",
     "output_type": "stream",
     "text": [
      "Requirement already satisfied: qiskit-machine-learning in c:\\users\\yash thakar\\appdata\\local\\programs\\python\\python311\\lib\\site-packages (0.7.1)\n",
      "Requirement already satisfied: qiskit>=0.44 in c:\\users\\yash thakar\\appdata\\local\\programs\\python\\python311\\lib\\site-packages (from qiskit-machine-learning) (0.44.1)\n",
      "Requirement already satisfied: qiskit-algorithms>=0.2.0 in c:\\users\\yash thakar\\appdata\\local\\programs\\python\\python311\\lib\\site-packages (from qiskit-machine-learning) (0.3.0)\n",
      "Requirement already satisfied: scipy>=1.4 in c:\\users\\yash thakar\\appdata\\local\\programs\\python\\python311\\lib\\site-packages (from qiskit-machine-learning) (1.11.1)\n",
      "Requirement already satisfied: numpy>=1.17 in c:\\users\\yash thakar\\appdata\\local\\programs\\python\\python311\\lib\\site-packages (from qiskit-machine-learning) (1.25.2)\n",
      "Requirement already satisfied: psutil>=5 in c:\\users\\yash thakar\\appdata\\local\\programs\\python\\python311\\lib\\site-packages (from qiskit-machine-learning) (5.9.5)\n",
      "Requirement already satisfied: scikit-learn>=1.2.0 in c:\\users\\yash thakar\\appdata\\local\\programs\\python\\python311\\lib\\site-packages (from qiskit-machine-learning) (1.3.0)\n",
      "Requirement already satisfied: fastdtw in c:\\users\\yash thakar\\appdata\\local\\programs\\python\\python311\\lib\\site-packages (from qiskit-machine-learning) (0.3.4)\n",
      "Requirement already satisfied: setuptools>=40.1.0 in c:\\users\\yash thakar\\appdata\\local\\programs\\python\\python311\\lib\\site-packages (from qiskit-machine-learning) (65.5.0)\n",
      "Requirement already satisfied: dill>=0.3.4 in c:\\users\\yash thakar\\appdata\\local\\programs\\python\\python311\\lib\\site-packages (from qiskit-machine-learning) (0.3.7)\n",
      "Requirement already satisfied: qiskit-terra==0.25.1 in c:\\users\\yash thakar\\appdata\\local\\programs\\python\\python311\\lib\\site-packages (from qiskit>=0.44->qiskit-machine-learning) (0.25.1)\n",
      "Requirement already satisfied: rustworkx>=0.13.0 in c:\\users\\yash thakar\\appdata\\local\\programs\\python\\python311\\lib\\site-packages (from qiskit-terra==0.25.1->qiskit>=0.44->qiskit-machine-learning) (0.13.1)\n",
      "Requirement already satisfied: ply>=3.10 in c:\\users\\yash thakar\\appdata\\local\\programs\\python\\python311\\lib\\site-packages (from qiskit-terra==0.25.1->qiskit>=0.44->qiskit-machine-learning) (3.11)\n",
      "Requirement already satisfied: sympy>=1.3 in c:\\users\\yash thakar\\appdata\\local\\programs\\python\\python311\\lib\\site-packages (from qiskit-terra==0.25.1->qiskit>=0.44->qiskit-machine-learning) (1.12)\n",
      "Requirement already satisfied: python-dateutil>=2.8.0 in c:\\users\\yash thakar\\appdata\\local\\programs\\python\\python311\\lib\\site-packages (from qiskit-terra==0.25.1->qiskit>=0.44->qiskit-machine-learning) (2.8.2)\n",
      "Requirement already satisfied: stevedore>=3.0.0 in c:\\users\\yash thakar\\appdata\\local\\programs\\python\\python311\\lib\\site-packages (from qiskit-terra==0.25.1->qiskit>=0.44->qiskit-machine-learning) (5.1.0)\n",
      "Requirement already satisfied: joblib>=1.1.1 in c:\\users\\yash thakar\\appdata\\local\\programs\\python\\python311\\lib\\site-packages (from scikit-learn>=1.2.0->qiskit-machine-learning) (1.3.1)\n",
      "Requirement already satisfied: threadpoolctl>=2.0.0 in c:\\users\\yash thakar\\appdata\\local\\programs\\python\\python311\\lib\\site-packages (from scikit-learn>=1.2.0->qiskit-machine-learning) (3.1.0)\n",
      "Requirement already satisfied: six>=1.5 in c:\\users\\yash thakar\\appdata\\local\\programs\\python\\python311\\lib\\site-packages (from python-dateutil>=2.8.0->qiskit-terra==0.25.1->qiskit>=0.44->qiskit-machine-learning) (1.16.0)\n",
      "Requirement already satisfied: pbr!=2.1.0,>=2.0.0 in c:\\users\\yash thakar\\appdata\\local\\programs\\python\\python311\\lib\\site-packages (from stevedore>=3.0.0->qiskit-terra==0.25.1->qiskit>=0.44->qiskit-machine-learning) (5.11.1)\n",
      "Requirement already satisfied: mpmath>=0.19 in c:\\users\\yash thakar\\appdata\\local\\programs\\python\\python311\\lib\\site-packages (from sympy>=1.3->qiskit-terra==0.25.1->qiskit>=0.44->qiskit-machine-learning) (1.3.0)\n"
     ]
    },
    {
     "name": "stderr",
     "output_type": "stream",
     "text": [
      "\n",
      "[notice] A new release of pip is available: 23.3.1 -> 24.0\n",
      "[notice] To update, run: python.exe -m pip install --upgrade pip\n"
     ]
    }
   ],
   "source": [
    "!pip install qiskit-machine-learning"
   ]
  },
  {
   "cell_type": "code",
   "execution_count": 7,
   "id": "ca04d5a0",
   "metadata": {},
   "outputs": [],
   "source": [
    "from qiskit_algorithms.utils import algorithm_globals\n",
    "\n",
    "algorithm_globals.random_seed = 42"
   ]
  },
  {
   "cell_type": "code",
   "execution_count": 11,
   "id": "7024e8d1",
   "metadata": {},
   "outputs": [
    {
     "name": "stdout",
     "output_type": "stream",
     "text": [
      "Requirement already satisfied: pylatexenc in c:\\users\\yash thakar\\appdata\\local\\programs\\python\\python311\\lib\\site-packages (2.10)\n"
     ]
    },
    {
     "name": "stderr",
     "output_type": "stream",
     "text": [
      "\n",
      "[notice] A new release of pip is available: 23.3.1 -> 24.0\n",
      "[notice] To update, run: python.exe -m pip install --upgrade pip\n"
     ]
    }
   ],
   "source": [
    "!pip install pylatexenc"
   ]
  },
  {
   "cell_type": "code",
   "execution_count": 10,
   "id": "c22e6a10",
   "metadata": {},
   "outputs": [
    {
     "data": {
      "image/png": "[encoded data removed]",
      "text/plain": [
       "<Figure size 352.675x117.056 with 1 Axes>"
      ]
     },
     "execution_count": 10,
     "metadata": {},
     "output_type": "execute_result"
    }
   ],
   "source": [
    "from qiskit.circuit import Parameter\n",
    "from qiskit import QuantumCircuit\n",
    "\n",
    "params1 = [Parameter(\"input1\"), Parameter(\"weight1\")]\n",
    "qc1 = QuantumCircuit(1)\n",
    "qc1.h(0)\n",
    "qc1.ry(params1[0], 0)\n",
    "qc1.rx(params1[1], 0)\n",
    "qc1.draw(\"mpl\", style=\"textbook\")"
   ]
  },
  {
   "cell_type": "code",
   "execution_count": 11,
   "id": "5e5bc570",
   "metadata": {},
   "outputs": [],
   "source": [
    "from qiskit.quantum_info import SparsePauliOp\n",
    "\n",
    "observable1 = SparsePauliOp.from_list([(\"Y\" * qc1.num_qubits, 1)])"
   ]
  },
  {
   "cell_type": "code",
   "execution_count": 12,
   "id": "efce024d",
   "metadata": {},
   "outputs": [
    {
     "data": {
      "text/plain": [
       "<qiskit_machine_learning.neural_networks.estimator_qnn.EstimatorQNN at 0x1aefe9c6f10>"
      ]
     },
     "execution_count": 12,
     "metadata": {},
     "output_type": "execute_result"
    }
   ],
   "source": [
    "from qiskit_machine_learning.neural_networks import EstimatorQNN\n",
    "\n",
    "estimator_qnn = EstimatorQNN(\n",
    "    circuit=qc1, observables=observable1, input_params=[params1[0]], weight_params=[params1[1]]\n",
    ")\n",
    "estimator_qnn\n"
   ]
  },
  {
   "cell_type": "code",
   "execution_count": 13,
   "id": "17623705",
   "metadata": {},
   "outputs": [
    {
     "name": "stdout",
     "output_type": "stream",
     "text": [
      "input parameters: ['input[0]', 'input[1]']\n",
      "weight parameters: ['weight[0]', 'weight[1]', 'weight[2]', 'weight[3]']\n"
     ]
    },
    {
     "name": "stderr",
     "output_type": "stream",
     "text": [
      "C:\\Users\\Yash Thakar\\AppData\\Local\\Programs\\Python\\Python311\\Lib\\site-packages\\qiskit\\visualization\\circuit\\matplotlib.py:274: UserWarning: Style JSON file 'clifford.json' not found in any of these locations: C:\\Users\\Yash Thakar\\AppData\\Local\\Programs\\Python\\Python311\\Lib\\site-packages\\qiskit\\visualization\\circuit\\styles\\clifford.json, clifford.json. Will use default style.\n",
      "  self._style, def_font_ratio = load_style(self._style)\n"
     ]
    },
    {
     "data": {
      "image/png": "[encoded data removed]",
      "text/plain": [
       "<Figure size 538.128x200.667 with 1 Axes>"
      ]
     },
     "execution_count": 13,
     "metadata": {},
     "output_type": "execute_result"
    }
   ],
   "source": [
    "from qiskit.circuit import ParameterVector\n",
    "\n",
    "inputs2 = ParameterVector(\"input\", 2)z\n",
    "weights2 = ParameterVector(\"weight\", 4)\n",
    "print(f\"input parameters: {[str(item) for item in inputs2.params]}\")\n",
    "print(f\"weight parameters: {[str(item) for item in weights2.params]}\")\n",
    "\n",
    "qc2 = QuantumCircuit(2)\n",
    "qc2.ry(inputs2[0], 0)\n",
    "qc2.ry(inputs2[1], 1)\n",
    "qc2.cx(0, 1)\n",
    "qc2.ry(weights2[0], 0)\n",
    "qc2.ry(weights2[1], 1)\n",
    "qc2.cx(0, 1)\n",
    "qc2.ry(weights2[2], 0)\n",
    "qc2.ry(weights2[3], 1)\n",
    "\n",
    "qc2.draw(\"mpl\", style=\"clifford\")"
   ]
  },
  {
   "cell_type": "code",
   "execution_count": 14,
   "id": "d2e17578",
   "metadata": {},
   "outputs": [
    {
     "data": {
      "text/plain": [
       "<qiskit_machine_learning.neural_networks.sampler_qnn.SamplerQNN at 0x1aefcf0ab50>"
      ]
     },
     "execution_count": 14,
     "metadata": {},
     "output_type": "execute_result"
    }
   ],
   "source": [
    "from qiskit_machine_learning.neural_networks import SamplerQNN\n",
    "\n",
    "sampler_qnn = SamplerQNN(circuit=qc2, input_params=inputs2, weight_params=weights2)\n",
    "sampler_qnn"
   ]
  },
  {
   "cell_type": "code",
   "execution_count": null,
   "id": "c8c67cfd",
   "metadata": {},
   "outputs": [],
   "source": []
  }
 ],
 "metadata": {
  "kernelspec": {
   "display_name": "Python 3 (ipykernel)",
   "language": "python",
   "name": "python3"
  },
  "language_info": {
   "codemirror_mode": {
    "name": "ipython",
    "version": 3
   },
   "file_extension": ".py",
   "mimetype": "text/x-python",
   "name": "python",
   "nbconvert_exporter": "python",
   "pygments_lexer": "ipython3",
   "version": "3.11.6"
  }
 },
 "nbformat": 4,
 "nbformat_minor": 5
}
