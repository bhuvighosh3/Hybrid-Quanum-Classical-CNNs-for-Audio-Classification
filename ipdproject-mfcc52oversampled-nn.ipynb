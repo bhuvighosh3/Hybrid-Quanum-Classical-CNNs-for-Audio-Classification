{
 "cells": [
  {
   "cell_type": "code",
   "execution_count": 18,
   "metadata": {},
   "outputs": [],
   "source": [
    "import pandas as pd\n",
    "import numpy as np\n",
    "\n",
    "from sklearn.model_selection import train_test_split\n",
    "from sklearn.preprocessing import LabelEncoder\n",
    "\n",
    "import tensorflow as tf\n",
    "from tensorflow.keras.callbacks import EarlyStopping\n",
    "\n",
    "from sklearn.metrics import accuracy_score, classification_report\n",
    "from keras.models import Sequential\n",
    "from keras.layers import Conv1D, MaxPooling1D, Flatten, Dense, Dropout\n",
    "from sklearn.model_selection import train_test_split\n",
    "import numpy as np"
   ]
  },
  {
   "cell_type": "code",
   "execution_count": 19,
   "metadata": {},
   "outputs": [],
   "source": [
    "df = pd.read_csv(\"pre_processed_data/mfcc52_oversampled.csv\") "
   ]
  },
  {
   "cell_type": "code",
   "execution_count": 20,
   "metadata": {},
   "outputs": [],
   "source": [
    "\n",
    "df.reset_index(drop=True, inplace = True)"
   ]
  },
  {
   "cell_type": "code",
   "execution_count": 21,
   "metadata": {},
   "outputs": [],
   "source": [
    "df_x = df.iloc[:,:52]\n",
    "df_y = df.iloc[:,-1]"
   ]
  },
  {
   "cell_type": "code",
   "execution_count": 22,
   "metadata": {},
   "outputs": [],
   "source": [
    "x = np.array(df_x).reshape(-1, 52, 1)"
   ]
  },
  {
   "cell_type": "code",
   "execution_count": 23,
   "metadata": {},
   "outputs": [],
   "source": [
    "label_encoder = LabelEncoder()\n",
    "y_encoded = label_encoder.fit_transform(df_y)"
   ]
  },
  {
   "cell_type": "code",
   "execution_count": 24,
   "metadata": {},
   "outputs": [
    {
     "name": "stdout",
     "output_type": "stream",
     "text": [
      "[[  0   1   2   3   4]\n",
      " [222 222 222 222 222]]\n"
     ]
    }
   ],
   "source": [
    "unique_elements, counts_elements = np.unique(y_encoded, return_counts=True)\n",
    "print(np.asarray((unique_elements, counts_elements)))"
   ]
  },
  {
   "cell_type": "code",
   "execution_count": 25,
   "metadata": {},
   "outputs": [],
   "source": [
    "x_train, x_test, y_train, y_test = train_test_split(x, y_encoded, \n",
    "                                                    test_size=0.2, random_state = 42)"
   ]
  },
  {
   "cell_type": "code",
   "execution_count": 26,
   "metadata": {},
   "outputs": [
    {
     "name": "stderr",
     "output_type": "stream",
     "text": [
      "c:\\Users\\Yash Thakar\\PROGRAMMING\\Quantum\\env\\Lib\\site-packages\\keras\\src\\layers\\convolutional\\base_conv.py:99: UserWarning: Do not pass an `input_shape`/`input_dim` argument to a layer. When using Sequential models, prefer using an `Input(shape)` object as the first layer in the model instead.\n",
      "  super().__init__(\n"
     ]
    },
    {
     "name": "stdout",
     "output_type": "stream",
     "text": [
      "Epoch 1/100\n",
      "\u001b[1m56/56\u001b[0m \u001b[32m━━━━━━━━━━━━━━━━━━━━\u001b[0m\u001b[37m\u001b[0m \u001b[1m6s\u001b[0m 19ms/step - accuracy: 0.1970 - loss: 2.6887 - val_accuracy: 0.3784 - val_loss: 1.5537\n",
      "Epoch 2/100\n",
      "\u001b[1m56/56\u001b[0m \u001b[32m━━━━━━━━━━━━━━━━━━━━\u001b[0m\u001b[37m\u001b[0m \u001b[1m1s\u001b[0m 10ms/step - accuracy: 0.2286 - loss: 1.6523 - val_accuracy: 0.4189 - val_loss: 1.5091\n",
      "Epoch 3/100\n",
      "\u001b[1m56/56\u001b[0m \u001b[32m━━━━━━━━━━━━━━━━━━━━\u001b[0m\u001b[37m\u001b[0m \u001b[1m1s\u001b[0m 9ms/step - accuracy: 0.2656 - loss: 1.5703 - val_accuracy: 0.3694 - val_loss: 1.4618\n",
      "Epoch 4/100\n",
      "\u001b[1m56/56\u001b[0m \u001b[32m━━━━━━━━━━━━━━━━━━━━\u001b[0m\u001b[37m\u001b[0m \u001b[1m1s\u001b[0m 11ms/step - accuracy: 0.3280 - loss: 1.4967 - val_accuracy: 0.4009 - val_loss: 1.3922\n",
      "Epoch 5/100\n",
      "\u001b[1m56/56\u001b[0m \u001b[32m━━━━━━━━━━━━━━━━━━━━\u001b[0m\u001b[37m\u001b[0m \u001b[1m1s\u001b[0m 15ms/step - accuracy: 0.3283 - loss: 1.4773 - val_accuracy: 0.4279 - val_loss: 1.3716\n",
      "Epoch 6/100\n",
      "\u001b[1m56/56\u001b[0m \u001b[32m━━━━━━━━━━━━━━━━━━━━\u001b[0m\u001b[37m\u001b[0m \u001b[1m1s\u001b[0m 10ms/step - accuracy: 0.3406 - loss: 1.4214 - val_accuracy: 0.5090 - val_loss: 1.3274\n",
      "Epoch 7/100\n",
      "\u001b[1m56/56\u001b[0m \u001b[32m━━━━━━━━━━━━━━━━━━━━\u001b[0m\u001b[37m\u001b[0m \u001b[1m1s\u001b[0m 9ms/step - accuracy: 0.3679 - loss: 1.3662 - val_accuracy: 0.5180 - val_loss: 1.2710\n",
      "Epoch 8/100\n",
      "\u001b[1m56/56\u001b[0m \u001b[32m━━━━━━━━━━━━━━━━━━━━\u001b[0m\u001b[37m\u001b[0m \u001b[1m1s\u001b[0m 11ms/step - accuracy: 0.4175 - loss: 1.3405 - val_accuracy: 0.5090 - val_loss: 1.2304\n",
      "Epoch 9/100\n",
      "\u001b[1m56/56\u001b[0m \u001b[32m━━━━━━━━━━━━━━━━━━━━\u001b[0m\u001b[37m\u001b[0m \u001b[1m1s\u001b[0m 10ms/step - accuracy: 0.4042 - loss: 1.3317 - val_accuracy: 0.5090 - val_loss: 1.2099\n",
      "Epoch 10/100\n",
      "\u001b[1m56/56\u001b[0m \u001b[32m━━━━━━━━━━━━━━━━━━━━\u001b[0m\u001b[37m\u001b[0m \u001b[1m1s\u001b[0m 11ms/step - accuracy: 0.4101 - loss: 1.2925 - val_accuracy: 0.4955 - val_loss: 1.1827\n",
      "Epoch 11/100\n",
      "\u001b[1m56/56\u001b[0m \u001b[32m━━━━━━━━━━━━━━━━━━━━\u001b[0m\u001b[37m\u001b[0m \u001b[1m1s\u001b[0m 12ms/step - accuracy: 0.4310 - loss: 1.2684 - val_accuracy: 0.5676 - val_loss: 1.1454\n",
      "Epoch 12/100\n",
      "\u001b[1m56/56\u001b[0m \u001b[32m━━━━━━━━━━━━━━━━━━━━\u001b[0m\u001b[37m\u001b[0m \u001b[1m1s\u001b[0m 12ms/step - accuracy: 0.4538 - loss: 1.2584 - val_accuracy: 0.5676 - val_loss: 1.1151\n",
      "Epoch 13/100\n",
      "\u001b[1m56/56\u001b[0m \u001b[32m━━━━━━━━━━━━━━━━━━━━\u001b[0m\u001b[37m\u001b[0m \u001b[1m1s\u001b[0m 10ms/step - accuracy: 0.4583 - loss: 1.2567 - val_accuracy: 0.5450 - val_loss: 1.0359\n",
      "Epoch 14/100\n",
      "\u001b[1m56/56\u001b[0m \u001b[32m━━━━━━━━━━━━━━━━━━━━\u001b[0m\u001b[37m\u001b[0m \u001b[1m1s\u001b[0m 18ms/step - accuracy: 0.5172 - loss: 1.1359 - val_accuracy: 0.5450 - val_loss: 1.0477\n",
      "Epoch 15/100\n",
      "\u001b[1m56/56\u001b[0m \u001b[32m━━━━━━━━━━━━━━━━━━━━\u001b[0m\u001b[37m\u001b[0m \u001b[1m1s\u001b[0m 9ms/step - accuracy: 0.5160 - loss: 1.1124 - val_accuracy: 0.6081 - val_loss: 0.9821\n",
      "Epoch 16/100\n",
      "\u001b[1m56/56\u001b[0m \u001b[32m━━━━━━━━━━━━━━━━━━━━\u001b[0m\u001b[37m\u001b[0m \u001b[1m1s\u001b[0m 9ms/step - accuracy: 0.5124 - loss: 1.1236 - val_accuracy: 0.6441 - val_loss: 0.9574\n",
      "Epoch 17/100\n",
      "\u001b[1m56/56\u001b[0m \u001b[32m━━━━━━━━━━━━━━━━━━━━\u001b[0m\u001b[37m\u001b[0m \u001b[1m1s\u001b[0m 10ms/step - accuracy: 0.5396 - loss: 1.0514 - val_accuracy: 0.5811 - val_loss: 0.9539\n",
      "Epoch 18/100\n",
      "\u001b[1m56/56\u001b[0m \u001b[32m━━━━━━━━━━━━━━━━━━━━\u001b[0m\u001b[37m\u001b[0m \u001b[1m1s\u001b[0m 9ms/step - accuracy: 0.5102 - loss: 1.1023 - val_accuracy: 0.6171 - val_loss: 0.9002\n",
      "Epoch 19/100\n",
      "\u001b[1m56/56\u001b[0m \u001b[32m━━━━━━━━━━━━━━━━━━━━\u001b[0m\u001b[37m\u001b[0m \u001b[1m1s\u001b[0m 9ms/step - accuracy: 0.5461 - loss: 1.0339 - val_accuracy: 0.6126 - val_loss: 0.9192\n",
      "Epoch 20/100\n",
      "\u001b[1m56/56\u001b[0m \u001b[32m━━━━━━━━━━━━━━━━━━━━\u001b[0m\u001b[37m\u001b[0m \u001b[1m1s\u001b[0m 9ms/step - accuracy: 0.5732 - loss: 1.0080 - val_accuracy: 0.6306 - val_loss: 0.8581\n",
      "Epoch 21/100\n",
      "\u001b[1m56/56\u001b[0m \u001b[32m━━━━━━━━━━━━━━━━━━━━\u001b[0m\u001b[37m\u001b[0m \u001b[1m1s\u001b[0m 10ms/step - accuracy: 0.5754 - loss: 0.9925 - val_accuracy: 0.6306 - val_loss: 0.8416\n",
      "Epoch 22/100\n",
      "\u001b[1m56/56\u001b[0m \u001b[32m━━━━━━━━━━━━━━━━━━━━\u001b[0m\u001b[37m\u001b[0m \u001b[1m1s\u001b[0m 9ms/step - accuracy: 0.6089 - loss: 0.9293 - val_accuracy: 0.6171 - val_loss: 0.8898\n",
      "Epoch 23/100\n",
      "\u001b[1m56/56\u001b[0m \u001b[32m━━━━━━━━━━━━━━━━━━━━\u001b[0m\u001b[37m\u001b[0m \u001b[1m1s\u001b[0m 9ms/step - accuracy: 0.6126 - loss: 0.8744 - val_accuracy: 0.6261 - val_loss: 0.8646\n",
      "Epoch 24/100\n",
      "\u001b[1m56/56\u001b[0m \u001b[32m━━━━━━━━━━━━━━━━━━━━\u001b[0m\u001b[37m\u001b[0m \u001b[1m1s\u001b[0m 9ms/step - accuracy: 0.5960 - loss: 0.9543 - val_accuracy: 0.5811 - val_loss: 0.8627\n",
      "Epoch 25/100\n",
      "\u001b[1m56/56\u001b[0m \u001b[32m━━━━━━━━━━━━━━━━━━━━\u001b[0m\u001b[37m\u001b[0m \u001b[1m1s\u001b[0m 10ms/step - accuracy: 0.6155 - loss: 0.8827 - val_accuracy: 0.6577 - val_loss: 0.8091\n",
      "Epoch 26/100\n",
      "\u001b[1m56/56\u001b[0m \u001b[32m━━━━━━━━━━━━━━━━━━━━\u001b[0m\u001b[37m\u001b[0m \u001b[1m1s\u001b[0m 10ms/step - accuracy: 0.6490 - loss: 0.8261 - val_accuracy: 0.6306 - val_loss: 0.8022\n",
      "Epoch 27/100\n",
      "\u001b[1m56/56\u001b[0m \u001b[32m━━━━━━━━━━━━━━━━━━━━\u001b[0m\u001b[37m\u001b[0m \u001b[1m1s\u001b[0m 9ms/step - accuracy: 0.6355 - loss: 0.8367 - val_accuracy: 0.6622 - val_loss: 0.7629\n",
      "Epoch 28/100\n",
      "\u001b[1m56/56\u001b[0m \u001b[32m━━━━━━━━━━━━━━━━━━━━\u001b[0m\u001b[37m\u001b[0m \u001b[1m1s\u001b[0m 9ms/step - accuracy: 0.6395 - loss: 0.8350 - val_accuracy: 0.6712 - val_loss: 0.7718\n",
      "Epoch 29/100\n",
      "\u001b[1m56/56\u001b[0m \u001b[32m━━━━━━━━━━━━━━━━━━━━\u001b[0m\u001b[37m\u001b[0m \u001b[1m1s\u001b[0m 14ms/step - accuracy: 0.6077 - loss: 0.8740 - val_accuracy: 0.7252 - val_loss: 0.7246\n",
      "Epoch 30/100\n",
      "\u001b[1m56/56\u001b[0m \u001b[32m━━━━━━━━━━━━━━━━━━━━\u001b[0m\u001b[37m\u001b[0m \u001b[1m1s\u001b[0m 11ms/step - accuracy: 0.7217 - loss: 0.7419 - val_accuracy: 0.6577 - val_loss: 0.7602\n",
      "Epoch 31/100\n",
      "\u001b[1m56/56\u001b[0m \u001b[32m━━━━━━━━━━━━━━━━━━━━\u001b[0m\u001b[37m\u001b[0m \u001b[1m1s\u001b[0m 9ms/step - accuracy: 0.6592 - loss: 0.7794 - val_accuracy: 0.6982 - val_loss: 0.7238\n",
      "Epoch 32/100\n",
      "\u001b[1m56/56\u001b[0m \u001b[32m━━━━━━━━━━━━━━━━━━━━\u001b[0m\u001b[37m\u001b[0m \u001b[1m1s\u001b[0m 9ms/step - accuracy: 0.6647 - loss: 0.7912 - val_accuracy: 0.6802 - val_loss: 0.7197\n",
      "Epoch 33/100\n",
      "\u001b[1m56/56\u001b[0m \u001b[32m━━━━━━━━━━━━━━━━━━━━\u001b[0m\u001b[37m\u001b[0m \u001b[1m1s\u001b[0m 9ms/step - accuracy: 0.6737 - loss: 0.7555 - val_accuracy: 0.7162 - val_loss: 0.7508\n",
      "Epoch 34/100\n",
      "\u001b[1m56/56\u001b[0m \u001b[32m━━━━━━━━━━━━━━━━━━━━\u001b[0m\u001b[37m\u001b[0m \u001b[1m1s\u001b[0m 9ms/step - accuracy: 0.6704 - loss: 0.7829 - val_accuracy: 0.6847 - val_loss: 0.7063\n",
      "Epoch 35/100\n",
      "\u001b[1m56/56\u001b[0m \u001b[32m━━━━━━━━━━━━━━━━━━━━\u001b[0m\u001b[37m\u001b[0m \u001b[1m1s\u001b[0m 10ms/step - accuracy: 0.7049 - loss: 0.7372 - val_accuracy: 0.6802 - val_loss: 0.7047\n",
      "Epoch 36/100\n",
      "\u001b[1m56/56\u001b[0m \u001b[32m━━━━━━━━━━━━━━━━━━━━\u001b[0m\u001b[37m\u001b[0m \u001b[1m1s\u001b[0m 10ms/step - accuracy: 0.6709 - loss: 0.7509 - val_accuracy: 0.6712 - val_loss: 0.6920\n",
      "Epoch 37/100\n",
      "\u001b[1m56/56\u001b[0m \u001b[32m━━━━━━━━━━━━━━━━━━━━\u001b[0m\u001b[37m\u001b[0m \u001b[1m1s\u001b[0m 9ms/step - accuracy: 0.6864 - loss: 0.7206 - val_accuracy: 0.7207 - val_loss: 0.6801\n",
      "Epoch 38/100\n",
      "\u001b[1m56/56\u001b[0m \u001b[32m━━━━━━━━━━━━━━━━━━━━\u001b[0m\u001b[37m\u001b[0m \u001b[1m1s\u001b[0m 9ms/step - accuracy: 0.6787 - loss: 0.7379 - val_accuracy: 0.7072 - val_loss: 0.6743\n",
      "Epoch 39/100\n",
      "\u001b[1m56/56\u001b[0m \u001b[32m━━━━━━━━━━━━━━━━━━━━\u001b[0m\u001b[37m\u001b[0m \u001b[1m1s\u001b[0m 10ms/step - accuracy: 0.6873 - loss: 0.7044 - val_accuracy: 0.7072 - val_loss: 0.6659\n",
      "Epoch 40/100\n",
      "\u001b[1m56/56\u001b[0m \u001b[32m━━━━━━━━━━━━━━━━━━━━\u001b[0m\u001b[37m\u001b[0m \u001b[1m1s\u001b[0m 13ms/step - accuracy: 0.7293 - loss: 0.6516 - val_accuracy: 0.7117 - val_loss: 0.6493\n",
      "Epoch 41/100\n",
      "\u001b[1m56/56\u001b[0m \u001b[32m━━━━━━━━━━━━━━━━━━━━\u001b[0m\u001b[37m\u001b[0m \u001b[1m1s\u001b[0m 12ms/step - accuracy: 0.7249 - loss: 0.6456 - val_accuracy: 0.7252 - val_loss: 0.6439\n",
      "Epoch 42/100\n",
      "\u001b[1m56/56\u001b[0m \u001b[32m━━━━━━━━━━━━━━━━━━━━\u001b[0m\u001b[37m\u001b[0m \u001b[1m1s\u001b[0m 10ms/step - accuracy: 0.7143 - loss: 0.6363 - val_accuracy: 0.6982 - val_loss: 0.6878\n",
      "Epoch 43/100\n",
      "\u001b[1m56/56\u001b[0m \u001b[32m━━━━━━━━━━━━━━━━━━━━\u001b[0m\u001b[37m\u001b[0m \u001b[1m1s\u001b[0m 11ms/step - accuracy: 0.7043 - loss: 0.6727 - val_accuracy: 0.7162 - val_loss: 0.6433\n",
      "Epoch 44/100\n",
      "\u001b[1m56/56\u001b[0m \u001b[32m━━━━━━━━━━━━━━━━━━━━\u001b[0m\u001b[37m\u001b[0m \u001b[1m1s\u001b[0m 10ms/step - accuracy: 0.6986 - loss: 0.6890 - val_accuracy: 0.7432 - val_loss: 0.6570\n",
      "Epoch 45/100\n",
      "\u001b[1m56/56\u001b[0m \u001b[32m━━━━━━━━━━━━━━━━━━━━\u001b[0m\u001b[37m\u001b[0m \u001b[1m1s\u001b[0m 12ms/step - accuracy: 0.7283 - loss: 0.6806 - val_accuracy: 0.7297 - val_loss: 0.6245\n",
      "Epoch 46/100\n",
      "\u001b[1m56/56\u001b[0m \u001b[32m━━━━━━━━━━━━━━━━━━━━\u001b[0m\u001b[37m\u001b[0m \u001b[1m1s\u001b[0m 11ms/step - accuracy: 0.7492 - loss: 0.6063 - val_accuracy: 0.7432 - val_loss: 0.6262\n",
      "Epoch 47/100\n",
      "\u001b[1m56/56\u001b[0m \u001b[32m━━━━━━━━━━━━━━━━━━━━\u001b[0m\u001b[37m\u001b[0m \u001b[1m1s\u001b[0m 10ms/step - accuracy: 0.7500 - loss: 0.6106 - val_accuracy: 0.7252 - val_loss: 0.6391\n",
      "Epoch 48/100\n",
      "\u001b[1m56/56\u001b[0m \u001b[32m━━━━━━━━━━━━━━━━━━━━\u001b[0m\u001b[37m\u001b[0m \u001b[1m1s\u001b[0m 10ms/step - accuracy: 0.7225 - loss: 0.6305 - val_accuracy: 0.7342 - val_loss: 0.6301\n",
      "Epoch 49/100\n",
      "\u001b[1m56/56\u001b[0m \u001b[32m━━━━━━━━━━━━━━━━━━━━\u001b[0m\u001b[37m\u001b[0m \u001b[1m1s\u001b[0m 12ms/step - accuracy: 0.7588 - loss: 0.6051 - val_accuracy: 0.7387 - val_loss: 0.6010\n",
      "Epoch 50/100\n",
      "\u001b[1m56/56\u001b[0m \u001b[32m━━━━━━━━━━━━━━━━━━━━\u001b[0m\u001b[37m\u001b[0m \u001b[1m1s\u001b[0m 9ms/step - accuracy: 0.7303 - loss: 0.6408 - val_accuracy: 0.7432 - val_loss: 0.6102\n",
      "Epoch 51/100\n",
      "\u001b[1m56/56\u001b[0m \u001b[32m━━━━━━━━━━━━━━━━━━━━\u001b[0m\u001b[37m\u001b[0m \u001b[1m1s\u001b[0m 10ms/step - accuracy: 0.7570 - loss: 0.5702 - val_accuracy: 0.7613 - val_loss: 0.5923\n",
      "Epoch 52/100\n",
      "\u001b[1m56/56\u001b[0m \u001b[32m━━━━━━━━━━━━━━━━━━━━\u001b[0m\u001b[37m\u001b[0m \u001b[1m1s\u001b[0m 9ms/step - accuracy: 0.7865 - loss: 0.5583 - val_accuracy: 0.7703 - val_loss: 0.5917\n",
      "Epoch 53/100\n",
      "\u001b[1m56/56\u001b[0m \u001b[32m━━━━━━━━━━━━━━━━━━━━\u001b[0m\u001b[37m\u001b[0m \u001b[1m1s\u001b[0m 14ms/step - accuracy: 0.7604 - loss: 0.5605 - val_accuracy: 0.7658 - val_loss: 0.5949\n",
      "Epoch 54/100\n",
      "\u001b[1m56/56\u001b[0m \u001b[32m━━━━━━━━━━━━━━━━━━━━\u001b[0m\u001b[37m\u001b[0m \u001b[1m1s\u001b[0m 20ms/step - accuracy: 0.7863 - loss: 0.5339 - val_accuracy: 0.7342 - val_loss: 0.6014\n",
      "Epoch 55/100\n",
      "\u001b[1m56/56\u001b[0m \u001b[32m━━━━━━━━━━━━━━━━━━━━\u001b[0m\u001b[37m\u001b[0m \u001b[1m1s\u001b[0m 18ms/step - accuracy: 0.7852 - loss: 0.5188 - val_accuracy: 0.7658 - val_loss: 0.6042\n",
      "Epoch 56/100\n",
      "\u001b[1m56/56\u001b[0m \u001b[32m━━━━━━━━━━━━━━━━━━━━\u001b[0m\u001b[37m\u001b[0m \u001b[1m1s\u001b[0m 11ms/step - accuracy: 0.7987 - loss: 0.5110 - val_accuracy: 0.7613 - val_loss: 0.5749\n",
      "Epoch 57/100\n",
      "\u001b[1m56/56\u001b[0m \u001b[32m━━━━━━━━━━━━━━━━━━━━\u001b[0m\u001b[37m\u001b[0m \u001b[1m1s\u001b[0m 10ms/step - accuracy: 0.8018 - loss: 0.5130 - val_accuracy: 0.7793 - val_loss: 0.5650\n",
      "Epoch 58/100\n",
      "\u001b[1m56/56\u001b[0m \u001b[32m━━━━━━━━━━━━━━━━━━━━\u001b[0m\u001b[37m\u001b[0m \u001b[1m1s\u001b[0m 12ms/step - accuracy: 0.7969 - loss: 0.5151 - val_accuracy: 0.7928 - val_loss: 0.5633\n",
      "Epoch 59/100\n",
      "\u001b[1m56/56\u001b[0m \u001b[32m━━━━━━━━━━━━━━━━━━━━\u001b[0m\u001b[37m\u001b[0m \u001b[1m1s\u001b[0m 11ms/step - accuracy: 0.8236 - loss: 0.4786 - val_accuracy: 0.7658 - val_loss: 0.5607\n",
      "Epoch 60/100\n",
      "\u001b[1m56/56\u001b[0m \u001b[32m━━━━━━━━━━━━━━━━━━━━\u001b[0m\u001b[37m\u001b[0m \u001b[1m1s\u001b[0m 12ms/step - accuracy: 0.8068 - loss: 0.4760 - val_accuracy: 0.7568 - val_loss: 0.5708\n",
      "Epoch 61/100\n",
      "\u001b[1m56/56\u001b[0m \u001b[32m━━━━━━━━━━━━━━━━━━━━\u001b[0m\u001b[37m\u001b[0m \u001b[1m1s\u001b[0m 13ms/step - accuracy: 0.8154 - loss: 0.4932 - val_accuracy: 0.7658 - val_loss: 0.6355\n",
      "Epoch 62/100\n",
      "\u001b[1m56/56\u001b[0m \u001b[32m━━━━━━━━━━━━━━━━━━━━\u001b[0m\u001b[37m\u001b[0m \u001b[1m1s\u001b[0m 12ms/step - accuracy: 0.7702 - loss: 0.6393 - val_accuracy: 0.7568 - val_loss: 0.5594\n",
      "Epoch 63/100\n",
      "\u001b[1m56/56\u001b[0m \u001b[32m━━━━━━━━━━━━━━━━━━━━\u001b[0m\u001b[37m\u001b[0m \u001b[1m1s\u001b[0m 11ms/step - accuracy: 0.8113 - loss: 0.4713 - val_accuracy: 0.7568 - val_loss: 0.6092\n",
      "Epoch 64/100\n",
      "\u001b[1m56/56\u001b[0m \u001b[32m━━━━━━━━━━━━━━━━━━━━\u001b[0m\u001b[37m\u001b[0m \u001b[1m1s\u001b[0m 9ms/step - accuracy: 0.8156 - loss: 0.5457 - val_accuracy: 0.7793 - val_loss: 0.5501\n",
      "Epoch 65/100\n",
      "\u001b[1m56/56\u001b[0m \u001b[32m━━━━━━━━━━━━━━━━━━━━\u001b[0m\u001b[37m\u001b[0m \u001b[1m1s\u001b[0m 10ms/step - accuracy: 0.8038 - loss: 0.4762 - val_accuracy: 0.7793 - val_loss: 0.5287\n",
      "Epoch 66/100\n",
      "\u001b[1m56/56\u001b[0m \u001b[32m━━━━━━━━━━━━━━━━━━━━\u001b[0m\u001b[37m\u001b[0m \u001b[1m1s\u001b[0m 10ms/step - accuracy: 0.8381 - loss: 0.4157 - val_accuracy: 0.7973 - val_loss: 0.5384\n",
      "Epoch 67/100\n",
      "\u001b[1m56/56\u001b[0m \u001b[32m━━━━━━━━━━━━━━━━━━━━\u001b[0m\u001b[37m\u001b[0m \u001b[1m1s\u001b[0m 9ms/step - accuracy: 0.7942 - loss: 0.4512 - val_accuracy: 0.7928 - val_loss: 0.5205\n",
      "Epoch 68/100\n",
      "\u001b[1m56/56\u001b[0m \u001b[32m━━━━━━━━━━━━━━━━━━━━\u001b[0m\u001b[37m\u001b[0m \u001b[1m1s\u001b[0m 9ms/step - accuracy: 0.7978 - loss: 0.4802 - val_accuracy: 0.7838 - val_loss: 0.5402\n",
      "Epoch 69/100\n",
      "\u001b[1m56/56\u001b[0m \u001b[32m━━━━━━━━━━━━━━━━━━━━\u001b[0m\u001b[37m\u001b[0m \u001b[1m1s\u001b[0m 10ms/step - accuracy: 0.8269 - loss: 0.4394 - val_accuracy: 0.7613 - val_loss: 0.5377\n",
      "Epoch 70/100\n",
      "\u001b[1m56/56\u001b[0m \u001b[32m━━━━━━━━━━━━━━━━━━━━\u001b[0m\u001b[37m\u001b[0m \u001b[1m1s\u001b[0m 11ms/step - accuracy: 0.8007 - loss: 0.4720 - val_accuracy: 0.7613 - val_loss: 0.5617\n",
      "Epoch 71/100\n",
      "\u001b[1m56/56\u001b[0m \u001b[32m━━━━━━━━━━━━━━━━━━━━\u001b[0m\u001b[37m\u001b[0m \u001b[1m1s\u001b[0m 9ms/step - accuracy: 0.8182 - loss: 0.4314 - val_accuracy: 0.8108 - val_loss: 0.5078\n",
      "Epoch 72/100\n",
      "\u001b[1m56/56\u001b[0m \u001b[32m━━━━━━━━━━━━━━━━━━━━\u001b[0m\u001b[37m\u001b[0m \u001b[1m1s\u001b[0m 9ms/step - accuracy: 0.8070 - loss: 0.4475 - val_accuracy: 0.8063 - val_loss: 0.5053\n",
      "Epoch 73/100\n",
      "\u001b[1m56/56\u001b[0m \u001b[32m━━━━━━━━━━━━━━━━━━━━\u001b[0m\u001b[37m\u001b[0m \u001b[1m1s\u001b[0m 9ms/step - accuracy: 0.8377 - loss: 0.3722 - val_accuracy: 0.8108 - val_loss: 0.4885\n",
      "Epoch 74/100\n",
      "\u001b[1m56/56\u001b[0m \u001b[32m━━━━━━━━━━━━━━━━━━━━\u001b[0m\u001b[37m\u001b[0m \u001b[1m1s\u001b[0m 9ms/step - accuracy: 0.8116 - loss: 0.4442 - val_accuracy: 0.8108 - val_loss: 0.5026\n",
      "Epoch 75/100\n",
      "\u001b[1m56/56\u001b[0m \u001b[32m━━━━━━━━━━━━━━━━━━━━\u001b[0m\u001b[37m\u001b[0m \u001b[1m1s\u001b[0m 9ms/step - accuracy: 0.8474 - loss: 0.3954 - val_accuracy: 0.8198 - val_loss: 0.4883\n",
      "Epoch 76/100\n",
      "\u001b[1m56/56\u001b[0m \u001b[32m━━━━━━━━━━━━━━━━━━━━\u001b[0m\u001b[37m\u001b[0m \u001b[1m1s\u001b[0m 9ms/step - accuracy: 0.8430 - loss: 0.3877 - val_accuracy: 0.8333 - val_loss: 0.4906\n",
      "Epoch 77/100\n",
      "\u001b[1m56/56\u001b[0m \u001b[32m━━━━━━━━━━━━━━━━━━━━\u001b[0m\u001b[37m\u001b[0m \u001b[1m1s\u001b[0m 10ms/step - accuracy: 0.8347 - loss: 0.4351 - val_accuracy: 0.8288 - val_loss: 0.4802\n",
      "Epoch 78/100\n",
      "\u001b[1m56/56\u001b[0m \u001b[32m━━━━━━━━━━━━━━━━━━━━\u001b[0m\u001b[37m\u001b[0m \u001b[1m1s\u001b[0m 10ms/step - accuracy: 0.8519 - loss: 0.3719 - val_accuracy: 0.8243 - val_loss: 0.4797\n",
      "Epoch 79/100\n",
      "\u001b[1m56/56\u001b[0m \u001b[32m━━━━━━━━━━━━━━━━━━━━\u001b[0m\u001b[37m\u001b[0m \u001b[1m1s\u001b[0m 10ms/step - accuracy: 0.8506 - loss: 0.3590 - val_accuracy: 0.8288 - val_loss: 0.4623\n",
      "Epoch 80/100\n",
      "\u001b[1m56/56\u001b[0m \u001b[32m━━━━━━━━━━━━━━━━━━━━\u001b[0m\u001b[37m\u001b[0m \u001b[1m1s\u001b[0m 15ms/step - accuracy: 0.8606 - loss: 0.3453 - val_accuracy: 0.8243 - val_loss: 0.4736\n",
      "Epoch 81/100\n",
      "\u001b[1m56/56\u001b[0m \u001b[32m━━━━━━━━━━━━━━━━━━━━\u001b[0m\u001b[37m\u001b[0m \u001b[1m1s\u001b[0m 11ms/step - accuracy: 0.8282 - loss: 0.4131 - val_accuracy: 0.8333 - val_loss: 0.4740\n",
      "Epoch 82/100\n",
      "\u001b[1m56/56\u001b[0m \u001b[32m━━━━━━━━━━━━━━━━━━━━\u001b[0m\u001b[37m\u001b[0m \u001b[1m1s\u001b[0m 11ms/step - accuracy: 0.8565 - loss: 0.3625 - val_accuracy: 0.8243 - val_loss: 0.4530\n",
      "Epoch 83/100\n",
      "\u001b[1m56/56\u001b[0m \u001b[32m━━━━━━━━━━━━━━━━━━━━\u001b[0m\u001b[37m\u001b[0m \u001b[1m1s\u001b[0m 11ms/step - accuracy: 0.8382 - loss: 0.4059 - val_accuracy: 0.8378 - val_loss: 0.4515\n",
      "Epoch 84/100\n",
      "\u001b[1m56/56\u001b[0m \u001b[32m━━━━━━━━━━━━━━━━━━━━\u001b[0m\u001b[37m\u001b[0m \u001b[1m1s\u001b[0m 14ms/step - accuracy: 0.8657 - loss: 0.3378 - val_accuracy: 0.8288 - val_loss: 0.4412\n",
      "Epoch 85/100\n",
      "\u001b[1m56/56\u001b[0m \u001b[32m━━━━━━━━━━━━━━━━━━━━\u001b[0m\u001b[37m\u001b[0m \u001b[1m1s\u001b[0m 11ms/step - accuracy: 0.8586 - loss: 0.3195 - val_accuracy: 0.8378 - val_loss: 0.4486\n",
      "Epoch 86/100\n",
      "\u001b[1m56/56\u001b[0m \u001b[32m━━━━━━━━━━━━━━━━━━━━\u001b[0m\u001b[37m\u001b[0m \u001b[1m1s\u001b[0m 12ms/step - accuracy: 0.8612 - loss: 0.3481 - val_accuracy: 0.8468 - val_loss: 0.4301\n",
      "Epoch 87/100\n",
      "\u001b[1m56/56\u001b[0m \u001b[32m━━━━━━━━━━━━━━━━━━━━\u001b[0m\u001b[37m\u001b[0m \u001b[1m1s\u001b[0m 11ms/step - accuracy: 0.8646 - loss: 0.3232 - val_accuracy: 0.8378 - val_loss: 0.4735\n",
      "Epoch 88/100\n",
      "\u001b[1m56/56\u001b[0m \u001b[32m━━━━━━━━━━━━━━━━━━━━\u001b[0m\u001b[37m\u001b[0m \u001b[1m1s\u001b[0m 10ms/step - accuracy: 0.8748 - loss: 0.2915 - val_accuracy: 0.8468 - val_loss: 0.4387\n",
      "Epoch 89/100\n",
      "\u001b[1m56/56\u001b[0m \u001b[32m━━━━━━━━━━━━━━━━━━━━\u001b[0m\u001b[37m\u001b[0m \u001b[1m1s\u001b[0m 14ms/step - accuracy: 0.8417 - loss: 0.3583 - val_accuracy: 0.8468 - val_loss: 0.4144\n",
      "Epoch 90/100\n",
      "\u001b[1m56/56\u001b[0m \u001b[32m━━━━━━━━━━━━━━━━━━━━\u001b[0m\u001b[37m\u001b[0m \u001b[1m1s\u001b[0m 10ms/step - accuracy: 0.8701 - loss: 0.3130 - val_accuracy: 0.8333 - val_loss: 0.4481\n",
      "Epoch 91/100\n",
      "\u001b[1m56/56\u001b[0m \u001b[32m━━━━━━━━━━━━━━━━━━━━\u001b[0m\u001b[37m\u001b[0m \u001b[1m1s\u001b[0m 10ms/step - accuracy: 0.8680 - loss: 0.3393 - val_accuracy: 0.8514 - val_loss: 0.4132\n",
      "Epoch 92/100\n",
      "\u001b[1m56/56\u001b[0m \u001b[32m━━━━━━━━━━━━━━━━━━━━\u001b[0m\u001b[37m\u001b[0m \u001b[1m1s\u001b[0m 9ms/step - accuracy: 0.8599 - loss: 0.3413 - val_accuracy: 0.8423 - val_loss: 0.4235\n",
      "Epoch 93/100\n",
      "\u001b[1m56/56\u001b[0m \u001b[32m━━━━━━━━━━━━━━━━━━━━\u001b[0m\u001b[37m\u001b[0m \u001b[1m1s\u001b[0m 10ms/step - accuracy: 0.8346 - loss: 0.3636 - val_accuracy: 0.8739 - val_loss: 0.3881\n",
      "Epoch 94/100\n",
      "\u001b[1m56/56\u001b[0m \u001b[32m━━━━━━━━━━━━━━━━━━━━\u001b[0m\u001b[37m\u001b[0m \u001b[1m1s\u001b[0m 9ms/step - accuracy: 0.8485 - loss: 0.3624 - val_accuracy: 0.8423 - val_loss: 0.4480\n",
      "Epoch 95/100\n",
      "\u001b[1m56/56\u001b[0m \u001b[32m━━━━━━━━━━━━━━━━━━━━\u001b[0m\u001b[37m\u001b[0m \u001b[1m1s\u001b[0m 10ms/step - accuracy: 0.8663 - loss: 0.3518 - val_accuracy: 0.8423 - val_loss: 0.3890\n",
      "Epoch 96/100\n",
      "\u001b[1m56/56\u001b[0m \u001b[32m━━━━━━━━━━━━━━━━━━━━\u001b[0m\u001b[37m\u001b[0m \u001b[1m1s\u001b[0m 9ms/step - accuracy: 0.8537 - loss: 0.3208 - val_accuracy: 0.8604 - val_loss: 0.3994\n",
      "Epoch 97/100\n",
      "\u001b[1m56/56\u001b[0m \u001b[32m━━━━━━━━━━━━━━━━━━━━\u001b[0m\u001b[37m\u001b[0m \u001b[1m1s\u001b[0m 10ms/step - accuracy: 0.8736 - loss: 0.3222 - val_accuracy: 0.8559 - val_loss: 0.4124\n",
      "Epoch 98/100\n",
      "\u001b[1m56/56\u001b[0m \u001b[32m━━━━━━━━━━━━━━━━━━━━\u001b[0m\u001b[37m\u001b[0m \u001b[1m1s\u001b[0m 10ms/step - accuracy: 0.8898 - loss: 0.2796 - val_accuracy: 0.8468 - val_loss: 0.3927\n",
      "Epoch 99/100\n",
      "\u001b[1m56/56\u001b[0m \u001b[32m━━━━━━━━━━━━━━━━━━━━\u001b[0m\u001b[37m\u001b[0m \u001b[1m1s\u001b[0m 14ms/step - accuracy: 0.8666 - loss: 0.2876 - val_accuracy: 0.8694 - val_loss: 0.3768\n",
      "Epoch 100/100\n",
      "\u001b[1m56/56\u001b[0m \u001b[32m━━━━━━━━━━━━━━━━━━━━\u001b[0m\u001b[37m\u001b[0m \u001b[1m1s\u001b[0m 10ms/step - accuracy: 0.8851 - loss: 0.2924 - val_accuracy: 0.8468 - val_loss: 0.4156\n"
     ]
    },
    {
     "data": {
      "text/plain": [
       "<keras.src.callbacks.history.History at 0x211a6574d50>"
      ]
     },
     "execution_count": 26,
     "metadata": {},
     "output_type": "execute_result"
    }
   ],
   "source": [
    "# Create the model\n",
    "model = Sequential()\n",
    "\n",
    "# Add convolutional layers\n",
    "model.add(Conv1D(32, kernel_size=3, activation='relu', input_shape=(52, 1)))\n",
    "model.add(MaxPooling1D(pool_size=2))\n",
    "model.add(Conv1D(64, kernel_size=3, activation='relu'))\n",
    "model.add(MaxPooling1D(pool_size=2))\n",
    "model.add(Conv1D(128, kernel_size=3, activation='relu'))\n",
    "model.add(MaxPooling1D(pool_size=2))\n",
    "\n",
    "# Flatten the output of the convolutional layers\n",
    "model.add(Flatten())\n",
    "\n",
    "# Add dense layers\n",
    "model.add(Dense(128, activation='relu'))\n",
    "model.add(Dropout(0.3))\n",
    "model.add(Dense(64, activation='relu'))\n",
    "model.add(Dropout(0.3))\n",
    "model.add(Dense(32, activation='relu'))\n",
    "model.add(Dropout(0.3))\n",
    "model.add(Dense(5, activation='softmax')) \n",
    "\n",
    "\n",
    "# Compile the model\n",
    "optimiser = tf.keras.optimizers.Adam(learning_rate = 0.0002)\n",
    "cb = [EarlyStopping(patience=10,monitor='accuracy',mode='max',restore_best_weights=True)]\n",
    "model.compile(optimizer=optimiser, loss='sparse_categorical_crossentropy', metrics = ['accuracy'])\n",
    "\n",
    "# Train the model\n",
    "model.fit(x_train, y_train, epochs=100, batch_size=16, validation_data=(x_test, y_test), callbacks = cb)"
   ]
  },
  {
   "cell_type": "code",
   "execution_count": 27,
   "metadata": {},
   "outputs": [
    {
     "name": "stdout",
     "output_type": "stream",
     "text": [
      "\u001b[1m7/7\u001b[0m \u001b[32m━━━━━━━━━━━━━━━━━━━━\u001b[0m\u001b[37m\u001b[0m \u001b[1m0s\u001b[0m 38ms/step\n"
     ]
    }
   ],
   "source": [
    "y_pred = model.predict(x_test)\n",
    "y_pred_classes = y_pred.argmax(axis=1)"
   ]
  },
  {
   "cell_type": "code",
   "execution_count": 28,
   "metadata": {},
   "outputs": [
    {
     "data": {
      "text/plain": [
       "array([[2.56743398e-04, 1.46720195e-05, 9.97036338e-01, 3.09284078e-04,\n",
       "        2.38289079e-03],\n",
       "       [9.99982238e-01, 1.84492819e-06, 1.27340945e-05, 1.78540336e-06,\n",
       "        1.37390327e-06],\n",
       "       [6.28137171e-01, 1.41871171e-02, 4.56015160e-03, 3.68045294e-03,\n",
       "        3.49435061e-01],\n",
       "       ...,\n",
       "       [6.32645607e-01, 1.36363255e-02, 4.50696936e-03, 3.52036324e-03,\n",
       "        3.45690817e-01],\n",
       "       [1.84022918e-01, 4.09883857e-02, 2.31951728e-01, 2.68571794e-01,\n",
       "        2.74465144e-01],\n",
       "       [3.56194400e-03, 5.33449173e-04, 6.75492594e-03, 2.03602976e-04,\n",
       "        9.88946021e-01]], dtype=float32)"
      ]
     },
     "execution_count": 28,
     "metadata": {},
     "output_type": "execute_result"
    }
   ],
   "source": [
    "y_pred"
   ]
  },
  {
   "cell_type": "code",
   "execution_count": 29,
   "metadata": {},
   "outputs": [
    {
     "data": {
      "text/plain": [
       "array([2, 0, 0, 0, 0, 3, 0, 3, 0, 3, 2, 3, 1, 2, 0, 2, 0, 1, 1, 0, 2, 0,\n",
       "       1, 1, 0, 3, 4, 0, 2, 0, 1, 2, 3, 3, 3, 1, 2, 0, 0, 1, 1, 4, 3, 2,\n",
       "       1, 1, 3, 3, 1, 4, 3, 3, 4, 3, 2, 1, 3, 1, 2, 0, 0, 0, 1, 1, 4, 1,\n",
       "       2, 0, 4, 3, 0, 0, 4, 0, 1, 3, 3, 0, 3, 1, 2, 1, 0, 2, 1, 2, 4, 4,\n",
       "       1, 3, 1, 4, 3, 2, 3, 3, 4, 4, 1, 2, 1, 3, 0, 4, 4, 0, 0, 3, 4, 4,\n",
       "       4, 0, 4, 2, 3, 0, 1, 0, 3, 3, 3, 0, 3, 4, 4, 1, 4, 0, 0, 0, 0, 2,\n",
       "       2, 2, 4, 0, 0, 4, 1, 1, 1, 4, 3, 3, 3, 2, 1, 3, 3, 2, 0, 1, 1, 0,\n",
       "       3, 3, 2, 3, 2, 3, 4, 2, 0, 0, 0, 1, 0, 2, 2, 1, 3, 3, 1, 2, 4, 2,\n",
       "       2, 1, 4, 4, 0, 4, 3, 2, 4, 0, 0, 3, 2, 3, 1, 2, 1, 1, 3, 0, 3, 0,\n",
       "       2, 4, 2, 2, 2, 3, 3, 2, 3, 2, 0, 0, 0, 2, 2, 3, 0, 4, 1, 3, 0, 0,\n",
       "       4, 4], dtype=int64)"
      ]
     },
     "execution_count": 29,
     "metadata": {},
     "output_type": "execute_result"
    }
   ],
   "source": [
    "y_pred_classes"
   ]
  },
  {
   "cell_type": "code",
   "execution_count": 30,
   "metadata": {},
   "outputs": [
    {
     "name": "stdout",
     "output_type": "stream",
     "text": [
      "Accuracy Score: 0.8468468468468469\n"
     ]
    }
   ],
   "source": [
    "accuracy = accuracy_score(y_test, y_pred_classes)\n",
    "print(f'Accuracy Score: {accuracy}')"
   ]
  },
  {
   "cell_type": "code",
   "execution_count": 31,
   "metadata": {},
   "outputs": [
    {
     "name": "stdout",
     "output_type": "stream",
     "text": [
      "Classification Report:\n",
      "               precision    recall  f1-score   support\n",
      "\n",
      "           0       0.85      0.87      0.86        53\n",
      "           1       1.00      0.93      0.96        44\n",
      "           2       0.81      0.76      0.78        45\n",
      "           3       0.78      0.87      0.82        46\n",
      "           4       0.79      0.79      0.79        34\n",
      "\n",
      "    accuracy                           0.85       222\n",
      "   macro avg       0.85      0.84      0.84       222\n",
      "weighted avg       0.85      0.85      0.85       222\n",
      "\n"
     ]
    }
   ],
   "source": [
    "class_report = classification_report(y_test, y_pred_classes)\n",
    "print('Classification Report:\\n', class_report)"
   ]
  },
  {
   "cell_type": "code",
   "execution_count": 32,
   "metadata": {},
   "outputs": [
    {
     "name": "stdout",
     "output_type": "stream",
     "text": [
      "\u001b[1m28/28\u001b[0m \u001b[32m━━━━━━━━━━━━━━━━━━━━\u001b[0m\u001b[37m\u001b[0m \u001b[1m0s\u001b[0m 5ms/step\n"
     ]
    }
   ],
   "source": [
    "y_pred = model.predict(x_train)\n",
    "y_pred_classes = y_pred.argmax(axis=1)"
   ]
  },
  {
   "cell_type": "code",
   "execution_count": 33,
   "metadata": {},
   "outputs": [
    {
     "name": "stdout",
     "output_type": "stream",
     "text": [
      "Accuracy Score: 0.9009009009009009\n"
     ]
    }
   ],
   "source": [
    "accuracy = accuracy_score(y_train, y_pred_classes)\n",
    "print(f'Accuracy Score: {accuracy}')"
   ]
  },
  {
   "cell_type": "code",
   "execution_count": 34,
   "metadata": {},
   "outputs": [
    {
     "name": "stdout",
     "output_type": "stream",
     "text": [
      "Classification Report:\n",
      "               precision    recall  f1-score   support\n",
      "\n",
      "           0       0.86      0.95      0.90       169\n",
      "           1       1.00      0.97      0.99       178\n",
      "           2       0.91      0.84      0.87       177\n",
      "           3       0.84      0.92      0.88       176\n",
      "           4       0.91      0.83      0.87       188\n",
      "\n",
      "    accuracy                           0.90       888\n",
      "   macro avg       0.90      0.90      0.90       888\n",
      "weighted avg       0.90      0.90      0.90       888\n",
      "\n"
     ]
    }
   ],
   "source": [
    "class_report = classification_report(y_train, y_pred_classes)\n",
    "print('Classification Report:\\n', class_report)"
   ]
  },
  {
   "cell_type": "code",
   "execution_count": null,
   "metadata": {},
   "outputs": [],
   "source": []
  },
  {
   "cell_type": "code",
   "execution_count": null,
   "metadata": {},
   "outputs": [],
   "source": []
  }
 ],
 "metadata": {
  "kernelspec": {
   "display_name": "env",
   "language": "python",
   "name": "python3"
  },
  "language_info": {
   "codemirror_mode": {
    "name": "ipython",
    "version": 3
   },
   "file_extension": ".py",
   "mimetype": "text/x-python",
   "name": "python",
   "nbconvert_exporter": "python",
   "pygments_lexer": "ipython3",
   "version": "3.11.6"
  }
 },
 "nbformat": 4,
 "nbformat_minor": 2
}
