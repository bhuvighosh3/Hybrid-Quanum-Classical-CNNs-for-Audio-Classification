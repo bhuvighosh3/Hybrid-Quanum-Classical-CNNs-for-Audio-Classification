{
 "cells": [
  {
   "cell_type": "code",
   "execution_count": 6,
   "metadata": {},
   "outputs": [],
   "source": [
    "import torch\n",
    "import matplotlib.pyplot as plt\n",
    "\n",
    "from torch import no_grad\n",
    "from torch.utils.data import DataLoader\n",
    "from torchvision import datasets, transforms\n",
    "import torch.optim as optim\n",
    "from torch.nn import (\n",
    "    Module,\n",
    "    Conv2d,\n",
    "    Linear,\n",
    "    Dropout2d,\n",
    "    CrossEntropyLoss\n",
    ")\n",
    "import torch.nn.functional as F\n",
    "import torchmetrics"
   ]
  },
  {
   "cell_type": "code",
   "execution_count": 7,
   "metadata": {},
   "outputs": [
    {
     "name": "stdout",
     "output_type": "stream",
     "text": [
      "Number of training samples: 160\n",
      "Number of test samples: 40\n"
     ]
    }
   ],
   "source": [
    "torch.manual_seed(42)\n",
    "batch_size = 16\n",
    "\n",
    "# Train DataLoader\n",
    "data_root = \"./music/\"\n",
    "\n",
    "data_transform = transforms.Compose([\n",
    "    #transforms.Resize((400, 1000)), \n",
    "    transforms.ToTensor(),\n",
    "    #transforms.Normalize(mean=[0.5, 0.5, 0.5], std=[0.5, 0.5, 0.5])\n",
    "])\n",
    "\n",
    "custom_dataset = datasets.ImageFolder(root=data_root, transform=data_transform)\n",
    "train_dataset = custom_dataset\n",
    "train_loader = DataLoader(train_dataset, batch_size=batch_size, shuffle=True)\n",
    "\n",
    "print(\"Number of training samples:\", len(train_dataset))\n",
    "\n",
    "# Test DataLoader\n",
    "data_root = \"./music_test/\" \n",
    "\n",
    "data_transform = transforms.Compose([\n",
    "    #transforms.Resize((400, 1000)),\n",
    "    transforms.ToTensor(),\n",
    "    #transforms.Normalize(mean=[0.5, 0.5, 0.5], std=[0.5, 0.5, 0.5])\n",
    "])\n",
    "\n",
    "custom_dataset = datasets.ImageFolder(root=data_root, transform=data_transform)\n",
    "test_dataset = custom_dataset\n",
    "test_loader = DataLoader(test_dataset, shuffle=False)\n",
    "\n",
    "print(\"Number of test samples:\", len(test_dataset))"
   ]
  },
  {
   "cell_type": "code",
   "execution_count": 8,
   "metadata": {},
   "outputs": [],
   "source": [
    "class CNN(Module):\n",
    "    def __init__(self):\n",
    "        super().__init__()\n",
    "        self.conv1 = Conv2d(3, 2, kernel_size=5)\n",
    "        self.conv2 = Conv2d(2, 16, kernel_size=5)\n",
    "        self.conv3 = Conv2d(16, 64, kernel_size=5)\n",
    "        self.dropout = Dropout2d()\n",
    "        self.fc1 = Linear(102400, 64)\n",
    "        self.fc2 = Linear(64, 32)\n",
    "        self.fc3 = Linear(32, 1)\n",
    "\n",
    "    def forward(self, x):\n",
    "        x = F.relu(self.conv1(x))\n",
    "        x = F.max_pool2d(x, 2)\n",
    "        x = F.relu(self.conv2(x))\n",
    "        x = F.max_pool2d(x, 2)\n",
    "        x = F.relu(self.conv3(x))\n",
    "        x = F.max_pool2d(x, 2)\n",
    "        x = self.dropout(x)\n",
    "        x = x.view(x.size(0), -1)  # Flatten the tensor\n",
    "        x = F.relu(self.fc1(x))\n",
    "        x = F.relu(self.fc2(x))      \n",
    "        x= self.fc3(x)\n",
    "        return torch.cat((x, 1 - x), -1)"
   ]
  },
  {
   "cell_type": "code",
   "execution_count": 9,
   "metadata": {},
   "outputs": [
    {
     "name": "stdout",
     "output_type": "stream",
     "text": [
      "Training [2%]\tLoss: 0.8273\n",
      "Training [4%]\tLoss: 0.7642\n",
      "Training [6%]\tLoss: 0.7368\n",
      "Training [8%]\tLoss: 0.6992\n",
      "Training [10%]\tLoss: 0.7152\n",
      "Training [12%]\tLoss: 0.7001\n",
      "Training [14%]\tLoss: 0.6927\n",
      "Training [16%]\tLoss: 0.6739\n",
      "Training [18%]\tLoss: 0.6866\n",
      "Training [20%]\tLoss: 0.6700\n",
      "Training [22%]\tLoss: 0.7048\n",
      "Training [24%]\tLoss: 0.6837\n",
      "Training [26%]\tLoss: 0.6870\n",
      "Training [28%]\tLoss: 0.6588\n",
      "Training [30%]\tLoss: 0.6631\n",
      "Training [32%]\tLoss: 0.6544\n",
      "Training [34%]\tLoss: 0.6466\n",
      "Training [36%]\tLoss: 0.6233\n",
      "Training [38%]\tLoss: 0.6286\n",
      "Training [40%]\tLoss: 0.5819\n",
      "Training [42%]\tLoss: 0.5435\n",
      "Training [44%]\tLoss: 0.5449\n",
      "Training [46%]\tLoss: 0.4883\n",
      "Training [48%]\tLoss: 0.4590\n",
      "Training [50%]\tLoss: 0.4342\n",
      "Training [52%]\tLoss: 0.4034\n",
      "Training [54%]\tLoss: 0.3533\n",
      "Training [56%]\tLoss: 0.4289\n",
      "Training [58%]\tLoss: 0.4354\n",
      "Training [60%]\tLoss: 0.4233\n",
      "Training [62%]\tLoss: 0.3368\n",
      "Training [64%]\tLoss: 0.2343\n",
      "Training [66%]\tLoss: 0.1958\n",
      "Training [68%]\tLoss: 0.2081\n",
      "Training [70%]\tLoss: 0.2115\n",
      "Training [72%]\tLoss: 0.1380\n",
      "Training [74%]\tLoss: 0.1749\n",
      "Training [76%]\tLoss: 0.1518\n",
      "Training [78%]\tLoss: 0.1496\n",
      "Training [80%]\tLoss: 0.1405\n",
      "Training [82%]\tLoss: 0.1203\n",
      "Training [84%]\tLoss: 0.1446\n",
      "Training [86%]\tLoss: 0.1165\n",
      "Training [88%]\tLoss: 0.1268\n",
      "Training [90%]\tLoss: 0.1271\n",
      "Training [92%]\tLoss: 0.1096\n",
      "Training [94%]\tLoss: 0.1105\n",
      "Training [96%]\tLoss: 0.1124\n",
      "Training [98%]\tLoss: 0.0774\n",
      "Training [100%]\tLoss: 0.1132\n"
     ]
    }
   ],
   "source": [
    "model = CNN() # Model\n",
    "optimizer = optim.SGD(model.parameters(), lr=0.001, momentum=0.9) # Optimizer \n",
    "loss_func = CrossEntropyLoss() # Loss Functions\n",
    "epochs = 50  # Set number of epochs\n",
    "loss_list = []  # Store loss history\n",
    "\n",
    "model.train()  # Set model to training mode\n",
    "\n",
    "for epoch in range(epochs):\n",
    "    total_loss = []\n",
    "    for batch_idx, (data, target) in enumerate(train_loader):\n",
    "        optimizer.zero_grad(set_to_none=True)  # Initialize gradient\n",
    "        output = model(data)  # Forward pass\n",
    "        loss = loss_func(output, target)  # Calculate loss\n",
    "        loss.backward()  # Backward pass\n",
    "        optimizer.step()  # Optimize weights\n",
    "        total_loss.append(loss.item())  # Store loss\n",
    "    loss_list.append(sum(total_loss) / len(total_loss))\n",
    "    print(\"Training [{:.0f}%]\\tLoss: {:.4f}\".format(100.0 * (epoch + 1) / epochs, loss_list[-1]))"
   ]
  },
  {
   "cell_type": "code",
   "execution_count": 10,
   "metadata": {},
   "outputs": [
    {
     "data": {
      "image/png": "[encoded data removed]",
      "text/plain": [
       "<Figure size 640x480 with 1 Axes>"
      ]
     },
     "metadata": {},
     "output_type": "display_data"
    }
   ],
   "source": [
    "plt.plot(loss_list)\n",
    "plt.title(\"Hybrid NN Training Convergence\")\n",
    "plt.xlabel(\"Training Iterations\")\n",
    "plt.ylabel(\"Cross Entropy Loss\")\n",
    "plt.show()"
   ]
  },
  {
   "cell_type": "code",
   "execution_count": 11,
   "metadata": {},
   "outputs": [],
   "source": [
    "PATH = 'models/music_cnn_classical.pt'\n",
    "torch.save(model.state_dict(), PATH)"
   ]
  },
  {
   "cell_type": "code",
   "execution_count": 12,
   "metadata": {},
   "outputs": [
    {
     "data": {
      "text/plain": [
       "<All keys matched successfully>"
      ]
     },
     "execution_count": 12,
     "metadata": {},
     "output_type": "execute_result"
    }
   ],
   "source": [
    "import torch\n",
    "PATH = 'models/music_cnn_classical.pt'\n",
    "#model = CNN()u\n",
    "model.load_state_dict(torch.load(PATH))"
   ]
  },
  {
   "cell_type": "code",
   "execution_count": 13,
   "metadata": {},
   "outputs": [
    {
     "data": {
      "text/plain": [
       "CNN(\n",
       "  (conv1): Conv2d(3, 2, kernel_size=(5, 5), stride=(1, 1))\n",
       "  (conv2): Conv2d(2, 16, kernel_size=(5, 5), stride=(1, 1))\n",
       "  (conv3): Conv2d(16, 64, kernel_size=(5, 5), stride=(1, 1))\n",
       "  (dropout): Dropout2d(p=0.5, inplace=False)\n",
       "  (fc1): Linear(in_features=102400, out_features=64, bias=True)\n",
       "  (fc2): Linear(in_features=64, out_features=32, bias=True)\n",
       "  (fc3): Linear(in_features=32, out_features=1, bias=True)\n",
       ")"
      ]
     },
     "execution_count": 13,
     "metadata": {},
     "output_type": "execute_result"
    }
   ],
   "source": [
    "from torchmetrics.classification import Accuracy, ConfusionMatrix, BinaryF1Score, BinaryPrecision, BinaryRecall, BinaryHingeLoss\n",
    "model.eval()"
   ]
  },
  {
   "cell_type": "code",
   "execution_count": 14,
   "metadata": {},
   "outputs": [
    {
     "name": "stdout",
     "output_type": "stream",
     "text": [
      "Accuracy: 0.925000011920929\n",
      "Cross-Entropy Loss: 0.03296685963869095\n",
      "Confusion Matrix:\n",
      "[[18, 2], [1, 19]]\n",
      "F1 Score: 0.9268292784690857\n",
      "Binary Precision: 0.9047619104385376\n",
      "Binary Recall: 0.949999988079071\n"
     ]
    }
   ],
   "source": [
    "y_true = []\n",
    "y_pred_probs = []\n",
    "\n",
    "with torch.no_grad():\n",
    "\n",
    "    for images, labels in test_loader:\n",
    "        outputs = model(images)\n",
    "        probabilities = F.softmax(outputs, dim=1)\n",
    "        y_true.extend(labels.tolist())\n",
    "        y_pred_probs.extend(probabilities.tolist())\n",
    "\n",
    "y_pred_probs = torch.tensor(y_pred_probs)\n",
    "y_pred = torch.argmax(y_pred_probs, dim=1)\n",
    "\n",
    "# Calculate accuracy\n",
    "accuracy = Accuracy(task=\"binary\")(y_pred, torch.tensor(y_true))\n",
    "print(\"Accuracy:\", accuracy.item())\n",
    "\n",
    "# Calculate cross-entropy loss\n",
    "CELoss = loss_func(outputs, labels)\n",
    "print(\"Cross-Entropy Loss:\", CELoss.item())\n",
    "\n",
    "# Calculate confusion matrix\n",
    "confmat = ConfusionMatrix(task=\"binary\", num_classes=2)\n",
    "confmat_result = confmat(y_pred, torch.tensor(y_true))\n",
    "print(\"Confusion Matrix:\")\n",
    "print(confmat_result.tolist())\n",
    "\n",
    "# Calculate F1 Score\n",
    "f1 = BinaryF1Score()\n",
    "f1_result = f1(y_pred, torch.tensor(y_true))\n",
    "print(\"F1 Score:\", f1_result.item())\n",
    "\n",
    "# Calculate Binary Precision\n",
    "precision = BinaryPrecision()\n",
    "precision_result = precision(y_pred, torch.tensor(y_true))\n",
    "print(\"Binary Precision:\", precision_result.item())\n",
    "\n",
    "# Calculate Binary Recall\n",
    "recall = BinaryRecall()\n",
    "recall_result = recall(y_pred, torch.tensor(y_true))\n",
    "print(\"Binary Recall:\", recall_result.item())"
   ]
  },
  {
   "cell_type": "code",
   "execution_count": 17,
   "metadata": {},
   "outputs": [
    {
     "name": "stdout",
     "output_type": "stream",
     "text": [
      "Accuracy: 0.987500011920929\n",
      "Cross-Entropy Loss: 0.0077233207412064075\n",
      "Confusion Matrix:\n",
      "[[80, 0], [2, 78]]\n",
      "F1 Score: 0.9873417615890503\n",
      "Binary Precision: 1.0\n",
      "Binary Recall: 0.9750000238418579\n"
     ]
    }
   ],
   "source": [
    "y_true = []\n",
    "y_pred_probs = []\n",
    "\n",
    "with torch.no_grad():\n",
    "\n",
    "    for images, labels in train_loader:\n",
    "        outputs = model(images)\n",
    "        probabilities = F.softmax(outputs, dim=1)\n",
    "        y_true.extend(labels.tolist())\n",
    "        y_pred_probs.extend(probabilities.tolist())\n",
    "\n",
    "y_pred_probs = torch.tensor(y_pred_probs)\n",
    "y_pred = torch.argmax(y_pred_probs, dim=1)\n",
    "\n",
    "# Calculate accuracy\n",
    "accuracy = Accuracy(task=\"binary\")(y_pred, torch.tensor(y_true))\n",
    "print(\"Accuracy:\", accuracy.item())\n",
    "\n",
    "# Calculate cross-entropy loss\n",
    "CELoss = loss_func(outputs, labels)\n",
    "print(\"Cross-Entropy Loss:\", CELoss.item())\n",
    "\n",
    "# Calculate confusion matrix\n",
    "confmat = ConfusionMatrix(task=\"binary\", num_classes=2)\n",
    "confmat_result = confmat(y_pred, torch.tensor(y_true))\n",
    "print(\"Confusion Matrix:\")\n",
    "print(confmat_result.tolist())\n",
    "\n",
    "# Calculate F1 Score\n",
    "f1 = BinaryF1Score()\n",
    "f1_result = f1(y_pred, torch.tensor(y_true))\n",
    "print(\"F1 Score:\", f1_result.item())\n",
    "\n",
    "# Calculate Binary Precision\n",
    "precision = BinaryPrecision()\n",
    "precision_result = precision(y_pred, torch.tensor(y_true))\n",
    "print(\"Binary Precision:\", precision_result.item())\n",
    "\n",
    "# Calculate Binary Recall\n",
    "recall = BinaryRecall()\n",
    "recall_result = recall(y_pred, torch.tensor(y_true))\n",
    "print(\"Binary Recall:\", recall_result.item())"
   ]
  },
  {
   "cell_type": "code",
   "execution_count": null,
   "metadata": {},
   "outputs": [],
   "source": []
  }
 ],
 "metadata": {
  "kernelspec": {
   "display_name": "env",
   "language": "python",
   "name": "python3"
  },
  "language_info": {
   "codemirror_mode": {
    "name": "ipython",
    "version": 3
   },
   "file_extension": ".py",
   "mimetype": "text/x-python",
   "name": "python",
   "nbconvert_exporter": "python",
   "pygments_lexer": "ipython3",
   "version": "3.11.6"
  }
 },
 "nbformat": 4,
 "nbformat_minor": 2
}
