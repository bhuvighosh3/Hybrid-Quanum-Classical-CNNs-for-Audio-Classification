{
 "cells": [
  {
   "cell_type": "code",
   "execution_count": 1,
   "metadata": {},
   "outputs": [],
   "source": [
    "import torch\n",
    "import matplotlib.pyplot as plt\n",
    "\n",
    "from torch import no_grad\n",
    "from torch.utils.data import DataLoader\n",
    "from torchvision import datasets, transforms\n",
    "import torch.optim as optim\n",
    "from torch.nn import (\n",
    "    Module,\n",
    "    Conv2d,\n",
    "    Linear,\n",
    "    Dropout2d,\n",
    "    CrossEntropyLoss\n",
    ")\n",
    "import torch.nn.functional as F\n",
    "import torchmetrics"
   ]
  },
  {
   "cell_type": "code",
   "execution_count": 10,
   "metadata": {},
   "outputs": [
    {
     "name": "stdout",
     "output_type": "stream",
     "text": [
      "Number of training samples: 1866\n",
      "Number of test samples: 464\n"
     ]
    }
   ],
   "source": [
    "torch.manual_seed(42)\n",
    "batch_size = 32\n",
    "\n",
    "# Train DataLoader\n",
    "data_root = \"./birdsong/\"\n",
    "\n",
    "data_transform = transforms.Compose([\n",
    "    #transforms.Resize((400, 1000)), \n",
    "    transforms.ToTensor(),\n",
    "    #transforms.Normalize(mean=[0.5, 0.5, 0.5], std=[0.5, 0.5, 0.5])\n",
    "])\n",
    "\n",
    "custom_dataset = datasets.ImageFolder(root=data_root, transform=data_transform)\n",
    "train_dataset = custom_dataset\n",
    "train_loader = DataLoader(train_dataset, batch_size=batch_size, shuffle=True)\n",
    "\n",
    "print(\"Number of training samples:\", len(train_dataset))\n",
    "\n",
    "# Test DataLoader\n",
    "data_root = \"./birdsong_test/\" \n",
    "\n",
    "data_transform = transforms.Compose([\n",
    "    #transforms.Resize((400, 1000)),\n",
    "    transforms.ToTensor(),\n",
    "    #transforms.Normalize(mean=[0.5, 0.5, 0.5], std=[0.5, 0.5, 0.5])\n",
    "])\n",
    "\n",
    "custom_dataset = datasets.ImageFolder(root=data_root, transform=data_transform)\n",
    "test_dataset = custom_dataset\n",
    "test_loader = DataLoader(test_dataset, shuffle=False)\n",
    "\n",
    "print(\"Number of test samples:\", len(test_dataset))"
   ]
  },
  {
   "cell_type": "code",
   "execution_count": 11,
   "metadata": {},
   "outputs": [],
   "source": [
    "class CNN(Module):\n",
    "    def __init__(self):\n",
    "        super().__init__()\n",
    "        self.conv1 = Conv2d(3, 2, kernel_size=5)\n",
    "        self.conv2 = Conv2d(2, 16, kernel_size=5)\n",
    "        self.conv3 = Conv2d(16, 64, kernel_size=5)\n",
    "        self.dropout = Dropout2d()\n",
    "        self.fc1 = Linear(356224, 64)\n",
    "        self.fc2 = Linear(64, 32)\n",
    "        self.fc3 = Linear(32, 1)\n",
    "\n",
    "    def forward(self, x):\n",
    "        x = F.relu(self.conv1(x))\n",
    "        x = F.max_pool2d(x, 2)\n",
    "        x = F.relu(self.conv2(x))\n",
    "        x = F.max_pool2d(x, 2)\n",
    "        x = F.relu(self.conv3(x))\n",
    "        x = F.max_pool2d(x, 2)\n",
    "        x = self.dropout(x)\n",
    "        x = x.view(x.size(0), -1)  # Flatten the tensor\n",
    "        x = F.relu(self.fc1(x))\n",
    "        x = F.relu(self.fc2(x))      \n",
    "        x= self.fc3(x)\n",
    "        return torch.cat((x, 1 - x), -1)"
   ]
  },
  {
   "cell_type": "code",
   "execution_count": 12,
   "metadata": {},
   "outputs": [
    {
     "name": "stdout",
     "output_type": "stream",
     "text": [
      "Training [10%]\tLoss: 0.6845\n",
      "Training [20%]\tLoss: 0.5469\n",
      "Training [30%]\tLoss: 0.3104\n",
      "Training [40%]\tLoss: 0.2445\n",
      "Training [50%]\tLoss: 0.2156\n",
      "Training [60%]\tLoss: 0.1995\n",
      "Training [70%]\tLoss: 0.2034\n",
      "Training [80%]\tLoss: 0.1868\n",
      "Training [90%]\tLoss: 0.1800\n",
      "Training [100%]\tLoss: 0.1596\n"
     ]
    }
   ],
   "source": [
    "model = CNN() # Model\n",
    "optimizer = optim.SGD(model.parameters(), lr=0.001, momentum=0.9) # Optimizer \n",
    "loss_func = CrossEntropyLoss() # Loss Functions\n",
    "epochs = 10  # Set number of epochs\n",
    "loss_list = []  # Store loss history\n",
    "\n",
    "model.train()  # Set model to training mode\n",
    "\n",
    "for epoch in range(epochs):\n",
    "    total_loss = []\n",
    "    for batch_idx, (data, target) in enumerate(train_loader):\n",
    "        optimizer.zero_grad(set_to_none=True)  # Initialize gradient\n",
    "        output = model(data)  # Forward pass\n",
    "        loss = loss_func(output, target)  # Calculate loss\n",
    "        loss.backward()  # Backward pass\n",
    "        optimizer.step()  # Optimize weights\n",
    "        total_loss.append(loss.item())  # Store loss\n",
    "    loss_list.append(sum(total_loss) / len(total_loss))\n",
    "    print(\"Training [{:.0f}%]\\tLoss: {:.4f}\".format(100.0 * (epoch + 1) / epochs, loss_list[-1]))"
   ]
  },
  {
   "cell_type": "code",
   "execution_count": 13,
   "metadata": {},
   "outputs": [
    {
     "data": {
      "image/png": "[encoded data removed]",
      "text/plain": [
       "<Figure size 640x480 with 1 Axes>"
      ]
     },
     "metadata": {},
     "output_type": "display_data"
    }
   ],
   "source": [
    "plt.plot(loss_list)\n",
    "plt.title(\"Hybrid NN Training Convergence\")\n",
    "plt.xlabel(\"Training Iterations\")\n",
    "plt.ylabel(\"Cross Entropy Loss\")\n",
    "plt.show()"
   ]
  },
  {
   "cell_type": "code",
   "execution_count": 14,
   "metadata": {},
   "outputs": [],
   "source": [
    "PATH = 'models/birdsong_cnn_classical.pt'\n",
    "torch.save(model.state_dict(), PATH)"
   ]
  },
  {
   "cell_type": "code",
   "execution_count": 15,
   "metadata": {},
   "outputs": [
    {
     "data": {
      "text/plain": [
       "<All keys matched successfully>"
      ]
     },
     "execution_count": 15,
     "metadata": {},
     "output_type": "execute_result"
    }
   ],
   "source": [
    "import torch\n",
    "PATH = 'models/birdsong_cnn_classical.pt'\n",
    "#model = CNN()u\n",
    "model.load_state_dict(torch.load(PATH))"
   ]
  },
  {
   "cell_type": "code",
   "execution_count": 16,
   "metadata": {},
   "outputs": [
    {
     "data": {
      "text/plain": [
       "CNN(\n",
       "  (conv1): Conv2d(3, 2, kernel_size=(5, 5), stride=(1, 1))\n",
       "  (conv2): Conv2d(2, 16, kernel_size=(5, 5), stride=(1, 1))\n",
       "  (conv3): Conv2d(16, 64, kernel_size=(5, 5), stride=(1, 1))\n",
       "  (dropout): Dropout2d(p=0.5, inplace=False)\n",
       "  (fc1): Linear(in_features=356224, out_features=64, bias=True)\n",
       "  (fc2): Linear(in_features=64, out_features=32, bias=True)\n",
       "  (fc3): Linear(in_features=32, out_features=1, bias=True)\n",
       ")"
      ]
     },
     "execution_count": 16,
     "metadata": {},
     "output_type": "execute_result"
    }
   ],
   "source": [
    "from torchmetrics.classification import Accuracy, ConfusionMatrix, BinaryF1Score, BinaryPrecision, BinaryRecall, BinaryHingeLoss\n",
    "model.eval()"
   ]
  },
  {
   "cell_type": "code",
   "execution_count": 17,
   "metadata": {},
   "outputs": [
    {
     "name": "stdout",
     "output_type": "stream",
     "text": [
      "Accuracy: 0.943965494632721\n",
      "Cross-Entropy Loss: 0.004749564453959465\n",
      "Confusion Matrix:\n",
      "[[205, 9], [17, 233]]\n",
      "F1 Score: 0.9471544623374939\n",
      "Binary Precision: 0.9628099203109741\n",
      "Binary Recall: 0.9319999814033508\n"
     ]
    }
   ],
   "source": [
    "y_true = []\n",
    "y_pred_probs = []\n",
    "\n",
    "with torch.no_grad():\n",
    "\n",
    "    for images, labels in test_loader:\n",
    "        outputs = model(images)\n",
    "        probabilities = F.softmax(outputs, dim=1)\n",
    "        y_true.extend(labels.tolist())\n",
    "        y_pred_probs.extend(probabilities.tolist())\n",
    "\n",
    "y_pred_probs = torch.tensor(y_pred_probs)\n",
    "y_pred = torch.argmax(y_pred_probs, dim=1)\n",
    "\n",
    "# Calculate accuracy\n",
    "accuracy = Accuracy(task=\"binary\")(y_pred, torch.tensor(y_true))\n",
    "print(\"Accuracy:\", accuracy.item())\n",
    "\n",
    "# Calculate cross-entropy loss\n",
    "CELoss = loss_func(outputs, labels)\n",
    "print(\"Cross-Entropy Loss:\", CELoss.item())\n",
    "\n",
    "# Calculate confusion matrix\n",
    "confmat = ConfusionMatrix(task=\"binary\", num_classes=2)\n",
    "confmat_result = confmat(y_pred, torch.tensor(y_true))\n",
    "print(\"Confusion Matrix:\")\n",
    "print(confmat_result.tolist())\n",
    "\n",
    "# Calculate F1 Score\n",
    "f1 = BinaryF1Score()\n",
    "f1_result = f1(y_pred, torch.tensor(y_true))\n",
    "print(\"F1 Score:\", f1_result.item())\n",
    "\n",
    "# Calculate Binary Precision\n",
    "precision = BinaryPrecision()\n",
    "precision_result = precision(y_pred, torch.tensor(y_true))\n",
    "print(\"Binary Precision:\", precision_result.item())\n",
    "\n",
    "# Calculate Binary Recall\n",
    "recall = BinaryRecall()\n",
    "recall_result = recall(y_pred, torch.tensor(y_true))\n",
    "print(\"Binary Recall:\", recall_result.item())"
   ]
  },
  {
   "cell_type": "code",
   "execution_count": 18,
   "metadata": {},
   "outputs": [
    {
     "name": "stdout",
     "output_type": "stream",
     "text": [
      "Accuracy: 0.9421221613883972\n",
      "Cross-Entropy Loss: 0.44405704736709595\n",
      "Confusion Matrix:\n",
      "[[822, 38], [70, 936]]\n",
      "F1 Score: 0.9454545378684998\n",
      "Binary Precision: 0.9609856009483337\n",
      "Binary Recall: 0.9304174780845642\n"
     ]
    }
   ],
   "source": [
    "y_true = []\n",
    "y_pred_probs = []\n",
    "\n",
    "with torch.no_grad():\n",
    "\n",
    "    for images, labels in train_loader:\n",
    "        outputs = model(images)\n",
    "        probabilities = F.softmax(outputs, dim=1)\n",
    "        y_true.extend(labels.tolist())\n",
    "        y_pred_probs.extend(probabilities.tolist())\n",
    "\n",
    "y_pred_probs = torch.tensor(y_pred_probs)\n",
    "y_pred = torch.argmax(y_pred_probs, dim=1)\n",
    "\n",
    "# Calculate accuracy\n",
    "accuracy = Accuracy(task=\"binary\")(y_pred, torch.tensor(y_true))\n",
    "print(\"Accuracy:\", accuracy.item())\n",
    "\n",
    "# Calculate cross-entropy loss\n",
    "CELoss = loss_func(outputs, labels)\n",
    "print(\"Cross-Entropy Loss:\", CELoss.item())\n",
    "\n",
    "# Calculate confusion matrix\n",
    "confmat = ConfusionMatrix(task=\"binary\", num_classes=2)\n",
    "confmat_result = confmat(y_pred, torch.tensor(y_true))\n",
    "print(\"Confusion Matrix:\")\n",
    "print(confmat_result.tolist())\n",
    "\n",
    "# Calculate F1 Score\n",
    "f1 = BinaryF1Score()\n",
    "f1_result = f1(y_pred, torch.tensor(y_true))\n",
    "print(\"F1 Score:\", f1_result.item())\n",
    "\n",
    "# Calculate Binary Precision\n",
    "precision = BinaryPrecision()\n",
    "precision_result = precision(y_pred, torch.tensor(y_true))\n",
    "print(\"Binary Precision:\", precision_result.item())\n",
    "\n",
    "# Calculate Binary Recall\n",
    "recall = BinaryRecall()\n",
    "recall_result = recall(y_pred, torch.tensor(y_true))\n",
    "print(\"Binary Recall:\", recall_result.item())"
   ]
  },
  {
   "cell_type": "code",
   "execution_count": null,
   "metadata": {},
   "outputs": [],
   "source": []
  }
 ],
 "metadata": {
  "kernelspec": {
   "display_name": "env",
   "language": "python",
   "name": "python3"
  },
  "language_info": {
   "codemirror_mode": {
    "name": "ipython",
    "version": 3
   },
   "file_extension": ".py",
   "mimetype": "text/x-python",
   "name": "python",
   "nbconvert_exporter": "python",
   "pygments_lexer": "ipython3",
   "version": "3.11.6"
  }
 },
 "nbformat": 4,
 "nbformat_minor": 2
}
